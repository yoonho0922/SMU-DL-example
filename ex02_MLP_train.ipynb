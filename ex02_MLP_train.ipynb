{
 "cells": [
  {
   "cell_type": "code",
   "execution_count": 3,
   "id": "smooth-africa",
   "metadata": {},
   "outputs": [],
   "source": [
    "import torch\n",
    "import torch.nn as nn\n",
    "import torch.optim as optim\n",
    "import torchvision.datasets as dset\n",
    "import torchvision.transforms as transforms\n",
    "from torch.utils.data import DataLoader\n",
    "from torch.autograd import Variable\n",
    "import matplotlib.pyplot as plt\n",
    "%matplotlib inline\n",
    "import numpy as np"
   ]
  },
  {
   "cell_type": "code",
   "execution_count": 4,
   "id": "strategic-reverse",
   "metadata": {},
   "outputs": [],
   "source": [
    "mnist_train = dset.MNIST(\"\", train=True, transform=transforms.ToTensor(),\n",
    "                        target_transform=None, download=True)\n",
    "mnist_test = dset.MNIST(\"\", train=False, transform=transforms.ToTensor(),\n",
    "                        target_transform=None, download=True)"
   ]
  },
  {
   "cell_type": "code",
   "execution_count": 12,
   "id": "artificial-refund",
   "metadata": {},
   "outputs": [
    {
     "name": "stdout",
     "output_type": "stream",
     "text": [
      "mnist_train 길이: 60000\n",
      "mnist_test 길이: 10000\n",
      "image data 형태: torch.Size([1, 28, 28])\n",
      "label:  5\n"
     ]
    },
    {
     "data": {
      "image/png": "[encoded data removed]",
      "text/plain": [
       "<Figure size 432x288 with 1 Axes>"
      ]
     },
     "metadata": {
      "needs_background": "light"
     },
     "output_type": "display_data"
    }
   ],
   "source": [
    "print \"mnist_train 길이:\", len(mnist_train)\n",
    "print \"mnist_test 길이:\", len(mnist_test)\n",
    "\n",
    "# 데이터 하나 형태\n",
    "image, label = mnist_train.__getitem__(0) # 0번째 데이터\n",
    "print\"image data 형태:\", image.size()\n",
    "print\"label: \", label\n",
    "\n",
    "# 그리기\n",
    "img = image.numpy() # image 타입을 numpy 로 변환 (1,28,28)\n",
    "plt.title(\"label: %d\" %label)\n",
    "plt.imshow(img[0], cmap='gray')\n",
    "plt.show()"
   ]
  },
  {
   "cell_type": "code",
   "execution_count": 14,
   "id": "sticky-poster",
   "metadata": {},
   "outputs": [],
   "source": [
    "# hyper parameters\n",
    "batch_size = 1024\n",
    "learning_rate = 0.01\n",
    "num_epoch = 400"
   ]
  },
  {
   "cell_type": "code",
   "execution_count": 17,
   "id": "stopped-pacific",
   "metadata": {},
   "outputs": [],
   "source": [
    "train_loader = torch.utils.data.DataLoader(mnist_train,\n",
    "                                          batch_size=batch_size,\n",
    "                                          shuffle=True, num_workers=2,\n",
    "                                          drop_last=True)\n",
    "test_loader = torch.utils.data.DataLoader(mnist_train,\n",
    "                                          batch_size=batch_size,\n",
    "                                          shuffle=False, num_workers=2,\n",
    "                                          drop_last=True)"
   ]
  },
  {
   "cell_type": "code",
   "execution_count": 42,
   "id": "higher-solid",
   "metadata": {},
   "outputs": [
    {
     "name": "stdout",
     "output_type": "stream",
     "text": [
      "58\n",
      "[0]\n",
      "한 번에 로드되는 데이터 크기: 1024\n"
     ]
    },
    {
     "data": {
      "image/png": "[encoded data removed]",
      "text/plain": [
       "<Figure size 432x288 with 3 Axes>"
      ]
     },
     "metadata": {
      "needs_background": "light"
     },
     "output_type": "display_data"
    }
   ],
   "source": [
    "n = 3\n",
    "for i, [imgs, labels] in enumerate(test_loader): # batch_size 만큼\n",
    "    if i > 0:\n",
    "        break\n",
    "    \n",
    "    print \"[%d]\" % i\n",
    "    print \"한 번에 로드되는 데이터 크기:\",  len(imgs)\n",
    "    \n",
    "    # 그리기\n",
    "    for j in range(n):\n",
    "        img = imgs[j].numpy()\n",
    "        img = img.reshape((img.shape[1], img.shape[2])) # (1,28,28) -> (28,28)\n",
    "        \n",
    "        plt.subplot(1, n, j+1)\n",
    "        plt.imshow(img, cmap='gray')\n",
    "        plt.title(\"label: %d\" %labels[j])\n",
    "    plt.show()\n",
    "        "
   ]
  },
  {
   "cell_type": "code",
   "execution_count": 49,
   "id": "interim-synthesis",
   "metadata": {},
   "outputs": [],
   "source": [
    "# 모델 선언\n",
    "## 퍼셉트론(2 hidden layer) ##\n",
    "model = nn.Sequential(\n",
    "    nn.Linear(28*28,256),\n",
    "    nn.Sigmoid(),\n",
    "    nn.Linear(256,128),\n",
    "    nn.Linear(128,10),\n",
    ")\n",
    "\n",
    "# print(list(model.parameters()))"
   ]
  },
  {
   "cell_type": "code",
   "execution_count": 53,
   "id": "musical-stretch",
   "metadata": {},
   "outputs": [],
   "source": [
    "# 정확도 계산 함수\n",
    "def ComputeAccr(dloader, imodel):\n",
    "    correct = 0\n",
    "    total = 0\n",
    "    \n",
    "    for j, [imgs, labels] in enumerate(dloader):\n",
    "        img = imgs # x\n",
    "        label = Variable(labels) #y\n",
    "        \n",
    "        # (batch_size, 1, 28, 28) -> (batch_size, 28, 28)\n",
    "        img = img.reshape((img.shape[0], img.shape[2], img.shape[3]))\n",
    "        # (batch_size, 28, 28) -> (batch_size, 28*28)\n",
    "        img = img.reshape((img.shape[0], img.shape[1]*img.shape[2]))\n",
    "        img = Variable(img, requires_grad=False)\n",
    "        \n",
    "        output = imodel(img) # forward prop.\n",
    "        _, output_index = torch.max(output, 1)\n",
    "        \n",
    "        total += label.size(0)\n",
    "        correct += (output_index == label).sum().float()\n",
    "    print(\"Accuracy of Test Data: {}\".format(100*correct/total))"
   ]
  },
  {
   "cell_type": "code",
   "execution_count": 55,
   "id": "mature-found",
   "metadata": {},
   "outputs": [
    {
     "name": "stdout",
     "output_type": "stream",
     "text": [
      "Accuracy of Test Data: 9.87506771088\n"
     ]
    }
   ],
   "source": [
    "ComputeAccr(test_loader, model)"
   ]
  },
  {
   "cell_type": "code",
   "execution_count": 56,
   "id": "outdoor-dublin",
   "metadata": {},
   "outputs": [],
   "source": [
    "loss_func = nn.CrossEntropyLoss()\n",
    "optimizer = optim.SGD(model.parameters(), lr=learning_rate)"
   ]
  },
  {
   "cell_type": "code",
   "execution_count": null,
   "id": "gross-haiti",
   "metadata": {},
   "outputs": [
    {
     "name": "stdout",
     "output_type": "stream",
     "text": [
      "0..\n",
      "Accuracy of Test Data: 91.5662078857\n",
      "tensor(0.3248, grad_fn=<NllLossBackward>)\n"
     ]
    }
   ],
   "source": [
    "num_epoch = 400\n",
    "for i in range(num_epoch):\n",
    "    for j, [imgs, labels] in enumerate(train_loader):\n",
    "        img = imgs # (batch_size, 1, 28, 28)\n",
    "        label = Variable(labels) #(batch_size)\n",
    "        \n",
    "        # (batch_size, 1, 28, 28) -> (batch_size, 28, 28)\n",
    "        img = img.reshape((img.shape[0], img.shape[2], img.shape[3]))\n",
    "        # (batch_size, 28, 28) -> (batch_size, 28*28)\n",
    "        img = img.reshape((img.shape[0], img.shape[1]*img.shape[2]))\n",
    "        img = Variable(img, requires_grad=False)\n",
    "        \n",
    "        optimizer.zero_grad()\n",
    "        output = model(img) # forward prop.\n",
    "        loss = loss_func(output, label)\n",
    "        \n",
    "        loss.backward() #back prop.\n",
    "        optimizer.step() # wegith 조정\n",
    "        \n",
    "    if i%50 == 0:\n",
    "        print(\"%d..\" %i)\n",
    "        ComputeAccr(test_loader, model)\n",
    "        print loss\n",
    "        \n",
    "        # prameter save\n",
    "        netname = './nets/mlp_weight.pkl'\n",
    "        torch.save(model, netname, )"
   ]
  },
  {
   "cell_type": "code",
   "execution_count": 59,
   "id": "specified-steering",
   "metadata": {},
   "outputs": [
    {
     "name": "stdout",
     "output_type": "stream",
     "text": [
      "Accuracy of Test Data: 91.5375823975\n"
     ]
    }
   ],
   "source": [
    "ComputeAccr(test_loader, model)"
   ]
  },
  {
   "cell_type": "code",
   "execution_count": null,
   "id": "bigger-account",
   "metadata": {},
   "outputs": [],
   "source": []
  }
 ],
 "metadata": {
  "kernelspec": {
   "display_name": "conda_pytorch_p27",
   "language": "python",
   "name": "conda_pytorch_p27"
  },
  "language_info": {
   "codemirror_mode": {
    "name": "ipython",
    "version": 2
   },
   "file_extension": ".py",
   "mimetype": "text/x-python",
   "name": "python",
   "nbconvert_exporter": "python",
   "pygments_lexer": "ipython2",
   "version": "2.7.16"
  }
 },
 "nbformat": 4,
 "nbformat_minor": 5
}
