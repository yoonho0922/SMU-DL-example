{
 "cells": [
  {
   "cell_type": "code",
   "execution_count": 6,
   "id": "offshore-richards",
   "metadata": {},
   "outputs": [],
   "source": [
    "import numpy as np\n",
    "import matplotlib.pyplot as plt\n",
    "\n",
    "import torch\n",
    "import torchvision.datasets as dset\n",
    "import torchvision.transforms as transforms\n",
    "\n"
   ]
  },
  {
   "cell_type": "code",
   "execution_count": 7,
   "id": "fossil-craps",
   "metadata": {},
   "outputs": [],
   "source": [
    "mnist_test = dset.MNIST(\"\", train=False, transform=transforms.ToTensor(),\n",
    "                        target_transform=None, download=True)"
   ]
  },
  {
   "cell_type": "code",
   "execution_count": 9,
   "id": "educated-biography",
   "metadata": {},
   "outputs": [
    {
     "name": "stdout",
     "output_type": "stream",
     "text": [
      "mnist_test 길이: 10000\n",
      "image data 형태: torch.Size([1, 28, 28])\n",
      "label:  7\n"
     ]
    },
    {
     "data": {
      "image/png": "[encoded data removed]",
      "text/plain": [
       "<Figure size 432x288 with 1 Axes>"
      ]
     },
     "metadata": {
      "needs_background": "light"
     },
     "output_type": "display_data"
    }
   ],
   "source": [
    "print(\"mnist_test 길이:\", len(mnist_test))\n",
    "\n",
    "# 데이터 하나 형태\n",
    "image, label = mnist_test.__getitem__(0) # 0번째 데이터\n",
    "print(\"image data 형태:\", image.size())\n",
    "print(\"label: \", label)\n",
    "\n",
    "# 그리기\n",
    "img = image.numpy() # image 타입을 numpy 로 변환 (1,28,28)\n",
    "plt.title(\"label: %d\" %label)\n",
    "plt.imshow(img[0], cmap='gray')\n",
    "plt.show()"
   ]
  },
  {
   "cell_type": "code",
   "execution_count": 11,
   "id": "sapphire-helen",
   "metadata": {},
   "outputs": [],
   "source": [
    "def sigmoid(x):\n",
    "    return 1/(1+np.exp(-x))"
   ]
  },
  {
   "cell_type": "code",
   "execution_count": 12,
   "id": "muslim-stick",
   "metadata": {},
   "outputs": [],
   "source": [
    "def softmax(x):\n",
    "    e_x = np.exp(x)\n",
    "    return e_x/np.sum(e_x)"
   ]
  },
  {
   "cell_type": "code",
   "execution_count": 15,
   "id": "theoretical-lloyd",
   "metadata": {},
   "outputs": [],
   "source": [
    "class MyMLP:\n",
    "    def __init__(self, n_input, n_hidden1, n_hidden2, n_output):\n",
    "        # W&(1): layer1 -> layer2 에 매핑되는 Weight\n",
    "        self.W1 = np.zeros((n_hidden1, n_input), dtype=np.float32) # W1(256, 28*28)\n",
    "        self.b1 = np.zeros((n_hidden1,), dtype=np.float32)\n",
    "        \n",
    "        self.W2 = np.zeros((n_hidden2, n_hidden1), dtype=np.float32) # W2(128, 256)\n",
    "        self.b2 = np.zeros((n_hidden2,), dtype=np.float32)\n",
    "        \n",
    "        self.W3 = np.zeros((n_output, n_hidden2), dtype=np.float32) # W3(10, 128)\n",
    "        self.b3 = np.zeros((n_output), dtype=np.float32)\n",
    "    \n",
    "    def __call__(self, x):\n",
    "        # (1,28,28) -> (28*28)\n",
    "        x = x.reshape(-1) # 일렬로 피기\n",
    "        \n",
    "        h1 = sigmoid(np.dot(self.W1, x) + self.b1)\n",
    "        h2 = np.dot(self.W2, h1) + self.b2\n",
    "        out = np.dot(self.W3, h2) + self.b3\n",
    "        \n",
    "        return softmax(out)"
   ]
  },
  {
   "cell_type": "code",
   "execution_count": 16,
   "id": "industrial-vision",
   "metadata": {},
   "outputs": [],
   "source": [
    "model = MyMLP(28*28, 256, 128, 10)"
   ]
  },
  {
   "cell_type": "code",
   "execution_count": 17,
   "id": "exposed-camel",
   "metadata": {},
   "outputs": [
    {
     "name": "stdout",
     "output_type": "stream",
     "text": [
      "(256, 784) (256,)\n",
      "(128, 256) (128,)\n",
      "(10, 128) (10,)\n"
     ]
    }
   ],
   "source": [
    "print(model.W1.shape, model.b1.shape)\n",
    "print(model.W2.shape, model.b2.shape)\n",
    "print(model.W3.shape, model.b3.shape)"
   ]
  },
  {
   "cell_type": "code",
   "execution_count": 19,
   "id": "composed-snake",
   "metadata": {},
   "outputs": [],
   "source": [
    "weights = np.load('./nets/mlp_weight.npz')\n",
    "model.W1 = weights['W1']\n",
    "model.b1 = weights['b1']\n",
    "model.W2 = weights['W2']\n",
    "model.b2 = weights['b2']\n",
    "model.W3 = weights['W3']\n",
    "model.b3 = weights['b3']"
   ]
  },
  {
   "cell_type": "code",
   "execution_count": 20,
   "id": "latter-reference",
   "metadata": {},
   "outputs": [
    {
     "name": "stdout",
     "output_type": "stream",
     "text": [
      "(256, 784) (256,)\n",
      "(128, 256) (128,)\n",
      "(10, 128) (10,)\n"
     ]
    }
   ],
   "source": [
    "print(model.W1.shape, model.b1.shape)\n",
    "print(model.W2.shape, model.b2.shape)\n",
    "print(model.W3.shape, model.b3.shape)"
   ]
  },
  {
   "cell_type": "code",
   "execution_count": 22,
   "id": "partial-receipt",
   "metadata": {},
   "outputs": [
    {
     "data": {
      "image/png": "[encoded data removed]",
      "text/plain": [
       "<Figure size 432x288 with 1 Axes>"
      ]
     },
     "metadata": {
      "needs_background": "light"
     },
     "output_type": "display_data"
    },
    {
     "data": {
      "image/png": "[encoded data removed]",
      "text/plain": [
       "<Figure size 432x288 with 1 Axes>"
      ]
     },
     "metadata": {
      "needs_background": "light"
     },
     "output_type": "display_data"
    },
    {
     "data": {
      "image/png": "[encoded data removed]",
      "text/plain": [
       "<Figure size 432x288 with 1 Axes>"
      ]
     },
     "metadata": {
      "needs_background": "light"
     },
     "output_type": "display_data"
    },
    {
     "data": {
      "image/png": "[encoded data removed]",
      "text/plain": [
       "<Figure size 432x288 with 1 Axes>"
      ]
     },
     "metadata": {
      "needs_background": "light"
     },
     "output_type": "display_data"
    },
    {
     "data": {
      "image/png": "[encoded data removed]",
      "text/plain": [
       "<Figure size 432x288 with 1 Axes>"
      ]
     },
     "metadata": {
      "needs_background": "light"
     },
     "output_type": "display_data"
    },
    {
     "data": {
      "image/png": "[encoded data removed]",
      "text/plain": [
       "<Figure size 432x288 with 1 Axes>"
      ]
     },
     "metadata": {
      "needs_background": "light"
     },
     "output_type": "display_data"
    },
    {
     "data": {
      "image/png": "[encoded data removed]",
      "text/plain": [
       "<Figure size 432x288 with 1 Axes>"
      ]
     },
     "metadata": {
      "needs_background": "light"
     },
     "output_type": "display_data"
    },
    {
     "data": {
      "image/png": "[encoded data removed]",
      "text/plain": [
       "<Figure size 432x288 with 1 Axes>"
      ]
     },
     "metadata": {
      "needs_background": "light"
     },
     "output_type": "display_data"
    },
    {
     "data": {
      "image/png": "[encoded data removed]",
      "text/plain": [
       "<Figure size 432x288 with 1 Axes>"
      ]
     },
     "metadata": {
      "needs_background": "light"
     },
     "output_type": "display_data"
    },
    {
     "data": {
      "image/png": "[encoded data removed]",
      "text/plain": [
       "<Figure size 432x288 with 1 Axes>"
      ]
     },
     "metadata": {
      "needs_background": "light"
     },
     "output_type": "display_data"
    },
    {
     "name": "stdout",
     "output_type": "stream",
     "text": [
      "정확도: 91.91\n"
     ]
    }
   ],
   "source": [
    "mysum = 0\n",
    "m = len(mnist_test)\n",
    "cnt = 0\n",
    "for i in range(m):\n",
    "    image, label = mnist_test.__getitem__(i)\n",
    "    output = model(image)\n",
    "    \n",
    "    if(i%1000==0):\n",
    "        img = image.numpy()\n",
    "        pred_label = np.argmax(output)\n",
    "        plt.title(\"pred: %d, label: %d\" %(pred_label, label))\n",
    "        plt.imshow(img[0], cmap='gray')\n",
    "        plt.show()\n",
    "        \n",
    "    cnt += 1\n",
    "    mysum += (np.argmax(output) == label)\n",
    "\n",
    "print(\"정확도: %.2f\" %((float(mysum)/cnt)*100.0))"
   ]
  },
  {
   "cell_type": "code",
   "execution_count": null,
   "id": "comprehensive-klein",
   "metadata": {},
   "outputs": [],
   "source": []
  }
 ],
 "metadata": {
  "kernelspec": {
   "display_name": "conda_pytorch_p36",
   "language": "python",
   "name": "conda_pytorch_p36"
  },
  "language_info": {
   "codemirror_mode": {
    "name": "ipython",
    "version": 3
   },
   "file_extension": ".py",
   "mimetype": "text/x-python",
   "name": "python",
   "nbconvert_exporter": "python",
   "pygments_lexer": "ipython3",
   "version": "3.6.13"
  }
 },
 "nbformat": 4,
 "nbformat_minor": 5
}
